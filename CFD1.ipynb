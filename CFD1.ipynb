{
  "nbformat": 4,
  "nbformat_minor": 0,
  "metadata": {
    "colab": {
      "provenance": [],
      "authorship_tag": "ABX9TyP8wBNn7fddu0ThEV8uGBbF",
      "include_colab_link": true
    },
    "kernelspec": {
      "name": "python3",
      "display_name": "Python 3"
    },
    "language_info": {
      "name": "python"
    }
  },
  "cells": [
    {
      "cell_type": "markdown",
      "metadata": {
        "id": "view-in-github",
        "colab_type": "text"
      },
      "source": [
        "<a href=\"https://colab.research.google.com/github/MadhukumarV/CODE-FOR-A-DAY/blob/main/CFD1.ipynb\" target=\"_parent\"><img src=\"https://colab.research.google.com/assets/colab-badge.svg\" alt=\"Open In Colab\"/></a>"
      ]
    },
    {
      "cell_type": "markdown",
      "source": [
        "**Python Version and Info**"
      ],
      "metadata": {
        "id": "lmPiACoUhMUX"
      }
    },
    {
      "cell_type": "code",
      "execution_count": 2,
      "metadata": {
        "colab": {
          "base_uri": "https://localhost:8080/"
        },
        "id": "Y3Tb7ywifys7",
        "outputId": "69f26d1b-632b-4cdd-8c55-a3a256f90b19"
      },
      "outputs": [
        {
          "output_type": "stream",
          "name": "stdout",
          "text": [
            "Python Version\n",
            "3.10.12 (main, Sep 11 2024, 15:47:36) [GCC 11.4.0]\n",
            "Version info\n",
            "sys.version_info(major=3, minor=10, micro=12, releaselevel='final', serial=0)\n"
          ]
        }
      ],
      "source": [
        "import sys\n",
        "print(\"Python Version\",sys.version,\"Version info\",sys.version_info,sep='\\n')"
      ]
    },
    {
      "cell_type": "markdown",
      "source": [
        "**Current DATE AND TIME**"
      ],
      "metadata": {
        "id": "A88I9DaDhWPP"
      }
    },
    {
      "cell_type": "code",
      "source": [
        "import datetime\n",
        "print(\"Current DATE and TIME :\",datetime.datetime.now())"
      ],
      "metadata": {
        "colab": {
          "base_uri": "https://localhost:8080/"
        },
        "id": "ho2OVnN8g6G8",
        "outputId": "b4546d52-583e-46e8-a9e3-25545f8a97fd"
      },
      "execution_count": 4,
      "outputs": [
        {
          "output_type": "stream",
          "name": "stdout",
          "text": [
            "Current DATE and TIME : 2024-10-03 17:58:27.021696\n"
          ]
        }
      ]
    },
    {
      "cell_type": "markdown",
      "source": [
        " **Print the current date and time in a specific format  (object to str)**"
      ],
      "metadata": {
        "id": "RBspEEnvihsC"
      }
    },
    {
      "cell_type": "code",
      "source": [
        "now = datetime.datetime.now()\n",
        "print(\"Current DATE and TIME :\",now.strftime(\"%Y-%m-%d %H:%M:%S\"),sep='\\n')"
      ],
      "metadata": {
        "colab": {
          "base_uri": "https://localhost:8080/"
        },
        "id": "hU5h7adNipkR",
        "outputId": "e738f8e0-80a8-44f7-fd5f-c7c0239826a4"
      },
      "execution_count": 5,
      "outputs": [
        {
          "output_type": "stream",
          "name": "stdout",
          "text": [
            "Current DATE and TIME :\n",
            "2024-10-03 18:02:50\n"
          ]
        }
      ]
    }
  ]
}