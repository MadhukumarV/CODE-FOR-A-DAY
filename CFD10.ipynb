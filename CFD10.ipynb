{
  "nbformat": 4,
  "nbformat_minor": 0,
  "metadata": {
    "colab": {
      "provenance": []
    },
    "kernelspec": {
      "name": "python3",
      "display_name": "Python 3"
    },
    "language_info": {
      "name": "python"
    }
  },
  "cells": [
    {
      "cell_type": "markdown",
      "source": [
        "#### Finding the Area of Circle"
      ],
      "metadata": {
        "id": "AMm4w8u-Sn4x"
      }
    },
    {
      "cell_type": "code",
      "source": [
        "import math\n",
        "\n",
        "def circle_area(radius):\n",
        "  \"\"\"Calculates the area of a circle.\n",
        "\n",
        "  Args:\n",
        "    radius: The radius of the circle.\n",
        "\n",
        "  Returns:\n",
        "    The area of the circle.\n",
        "  \"\"\"\n",
        "  return math.pi * (radius ** 2)\n",
        "\n",
        "# Get the radius from the user\n",
        "radius = float(input(\"Enter the radius of the circle: \"))\n",
        "\n",
        "# Calculate the area\n",
        "area = circle_area(radius)\n",
        "\n",
        "# Print the area\n",
        "print(\"The area of the circle is:\", area)"
      ],
      "metadata": {
        "colab": {
          "base_uri": "https://localhost:8080/"
        },
        "id": "AACR7kqRSR-a",
        "outputId": "4b2cf6de-b0ca-4614-b315-5b412d1b5c6d"
      },
      "execution_count": 1,
      "outputs": [
        {
          "output_type": "stream",
          "name": "stdout",
          "text": [
            "Enter the radius of the circle: 34\n",
            "The area of the circle is: 3631.681107549801\n"
          ]
        }
      ]
    },
    {
      "cell_type": "markdown",
      "source": [
        "#### Area of Triangle"
      ],
      "metadata": {
        "id": "1g_GRuXcS1Sj"
      }
    },
    {
      "cell_type": "code",
      "source": [
        "import math\n",
        "\n",
        "# #### Finding the Area of Triangle\n",
        "\n",
        "def triangle_area(base, height):\n",
        "  \"\"\"Calculates the area of a triangle.\n",
        "\n",
        "  Args:\n",
        "    base: The base of the triangle.\n",
        "    height: The height of the triangle.\n",
        "\n",
        "  Returns:\n",
        "    The area of the triangle.\n",
        "  \"\"\"\n",
        "  return 0.5 * base * height\n",
        "\n",
        "# Get the base and height from the user\n",
        "base = float(input(\"Enter the base of the triangle: \"))\n",
        "height = float(input(\"Enter the height of the triangle: \"))\n",
        "\n",
        "# Calculate the area\n",
        "area = triangle_area(base, height)\n",
        "\n",
        "# Print the area\n",
        "print(\"The area of the triangle is:\", area)"
      ],
      "metadata": {
        "colab": {
          "base_uri": "https://localhost:8080/"
        },
        "id": "exZRvb2iTMSn",
        "outputId": "4e702de8-0a70-41a1-dfff-f7c9cf775be4"
      },
      "execution_count": 2,
      "outputs": [
        {
          "output_type": "stream",
          "name": "stdout",
          "text": [
            "Enter the base of the triangle: 23\n",
            "Enter the height of the triangle: 33\n",
            "The area of the triangle is: 379.5\n"
          ]
        }
      ]
    }
  ]
}