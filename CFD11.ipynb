{
  "nbformat": 4,
  "nbformat_minor": 0,
  "metadata": {
    "colab": {
      "provenance": [],
      "authorship_tag": "ABX9TyMyGQz0CtlZOJxEB0HwXI/X",
      "include_colab_link": true
    },
    "kernelspec": {
      "name": "python3",
      "display_name": "Python 3"
    },
    "language_info": {
      "name": "python"
    }
  },
  "cells": [
    {
      "cell_type": "markdown",
      "metadata": {
        "id": "view-in-github",
        "colab_type": "text"
      },
      "source": [
        "<a href=\"https://colab.research.google.com/github/MadhukumarV/CODE-FOR-A-DAY/blob/main/CFD11.ipynb\" target=\"_parent\"><img src=\"https://colab.research.google.com/assets/colab-badge.svg\" alt=\"Open In Colab\"/></a>"
      ]
    },
    {
      "cell_type": "markdown",
      "source": [
        "####  Calculate number of days between two dates"
      ],
      "metadata": {
        "id": "ZxI8Vc_hq1-I"
      }
    },
    {
      "cell_type": "code",
      "source": [
        "# prompt:  Calculate number of days between two dates\n",
        "\n",
        "from datetime import date\n",
        "\n",
        "def days_between(date1, date2):\n",
        "  \"\"\"Calculates the number of days between two dates.\n",
        "\n",
        "  Args:\n",
        "    date1: The first date.\n",
        "    date2: The second date.\n",
        "\n",
        "  Returns:\n",
        "    The number of days between the two dates.\n",
        "  \"\"\"\n",
        "  return abs((date2 - date1).days)\n",
        "\n",
        "# Example usage:\n",
        "date1 = date(2023, 10, 26)\n",
        "date2 = date(2023, 11, 15)\n",
        "num_days = days_between(date1, date2)\n",
        "print(f\"Number of days between {date1} and {date2}: {num_days}\")"
      ],
      "metadata": {
        "colab": {
          "base_uri": "https://localhost:8080/"
        },
        "id": "Vv0wHOFJu356",
        "outputId": "9369f1a4-9a4b-433e-c07e-4f224404f31c"
      },
      "execution_count": 13,
      "outputs": [
        {
          "output_type": "stream",
          "name": "stdout",
          "text": [
            "Number of days between 2023-10-26 and 2023-11-15: 20\n"
          ]
        }
      ]
    },
    {
      "cell_type": "markdown",
      "source": [
        "#### Count the number of occurrences in a list"
      ],
      "metadata": {
        "id": "9kYtYJd2umXi"
      }
    },
    {
      "cell_type": "code",
      "source": [
        "# prompt: Count the number of occurrences in a list\n",
        "\n",
        "def count_occurrences(input_list):\n",
        "  \"\"\"Counts the number of occurrences of each element in a list.\n",
        "\n",
        "  Args:\n",
        "    input_list: The list to count occurrences in.\n",
        "\n",
        "  Returns:\n",
        "    A dictionary where keys are the elements in the list and values are their\n",
        "    counts.\n",
        "  \"\"\"\n",
        "  occurrence_counts = {}\n",
        "  for item in input_list:\n",
        "    if item in occurrence_counts:\n",
        "      occurrence_counts[item] += 1\n",
        "    else:\n",
        "      occurrence_counts[item] = 1\n",
        "  return occurrence_counts\n",
        "\n",
        "# Example usage:\n",
        "my_list = [1, 2, 2, 3, 3, 3, 4, 4, 4, 4]\n",
        "counts = count_occurrences(my_list)\n",
        "print(f\"Occurrences in the list: {counts}\")"
      ],
      "metadata": {
        "id": "KdVxulbDu8Fd"
      },
      "execution_count": null,
      "outputs": []
    }
  ]
}