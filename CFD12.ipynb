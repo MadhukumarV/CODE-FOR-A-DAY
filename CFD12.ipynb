{
  "nbformat": 4,
  "nbformat_minor": 0,
  "metadata": {
    "colab": {
      "provenance": [],
      "authorship_tag": "ABX9TyNuOfbvxz5BMvfFLxfMDTuL",
      "include_colab_link": true
    },
    "kernelspec": {
      "name": "python3",
      "display_name": "Python 3"
    },
    "language_info": {
      "name": "python"
    }
  },
  "cells": [
    {
      "cell_type": "markdown",
      "metadata": {
        "id": "view-in-github",
        "colab_type": "text"
      },
      "source": [
        "<a href=\"https://colab.research.google.com/github/MadhukumarV/CODE-FOR-A-DAY/blob/main/CFD12.ipynb\" target=\"_parent\"><img src=\"https://colab.research.google.com/assets/colab-badge.svg\" alt=\"Open In Colab\"/></a>"
      ]
    },
    {
      "cell_type": "markdown",
      "source": [
        "#### Write a Python program to sort files by date."
      ],
      "metadata": {
        "id": "gOTo54O3Sq8s"
      }
    },
    {
      "cell_type": "code",
      "source": [
        "# Import the necessary libraries to work with file operations and globbing.\n",
        "import glob\n",
        "import os\n",
        "\n",
        "# Use the glob module to find all files in the current directory with a \".txt\" extension.\n",
        "files = glob.glob(\"*.txt\")\n",
        "\n",
        "# Sort the list of file names based on the modification time (getmtime) of each file.\n",
        "files.sort(key=os.path.getmtime)\n",
        "\n",
        "# Print the sorted list of file names, one per line.\n",
        "print(\"\\n\".join(files))"
      ],
      "metadata": {
        "colab": {
          "base_uri": "https://localhost:8080/"
        },
        "id": "IrO9q0SfS8Hc",
        "outputId": "223622a7-f145-4d42-edc0-d0d307bc07f7"
      },
      "execution_count": 1,
      "outputs": [
        {
          "output_type": "stream",
          "name": "stdout",
          "text": [
            "\n"
          ]
        }
      ]
    },
    {
      "cell_type": "markdown",
      "source": [
        "#### Write a Python program to calculate the midpoints of a line"
      ],
      "metadata": {
        "id": "HP4SsZV9TKs9"
      }
    },
    {
      "cell_type": "code",
      "source": [
        "# Print a message to inform the user that the program will calculate the midpoint of a line.\n",
        "print('\\nCalculate the midpoint of a line :')\n",
        "\n",
        "# Prompt the user to enter the x and y coordinates of the first endpoint of the line.\n",
        "x1 = float(input('The value of x (the first endpoint) '))\n",
        "y1 = float(input('The value of y (the first endpoint) '))\n",
        "\n",
        "# Prompt the user to enter the x and y coordinates of the second endpoint of the line.\n",
        "x2 = float(input('The value of x (the first endpoint) '))\n",
        "y2 = float(input('The value of y (the first endpoint) '))\n",
        "\n",
        "# Calculate the x-coordinate of the midpoint of the line.\n",
        "x_m_point = (x1 + x2)/2\n",
        "\n",
        "# Calculate the y-coordinate of the midpoint of the line.\n",
        "y_m_point = (y1 + y2)/2\n",
        "print();\n",
        "\n",
        "# Print a message to indicate that the program is displaying the midpoint.\n",
        "print(\"The midpoint of the line is :\")\n",
        "\n",
        "# Print the x-coordinate of the midpoint.\n",
        "print( \"The midpoint's x value is: \", x_m_point)\n",
        "\n",
        "# Print the y-coordinate of the midpoint.\n",
        "print( \"The midpoint's y value is: \", y_m_point)\n"
      ],
      "metadata": {
        "colab": {
          "base_uri": "https://localhost:8080/"
        },
        "id": "as-BgOrRTJtm",
        "outputId": "af14e33e-b1ff-4964-815d-ad75f6e3e3d2"
      },
      "execution_count": 2,
      "outputs": [
        {
          "output_type": "stream",
          "name": "stdout",
          "text": [
            "\n",
            "Calculate the midpoint of a line :\n",
            "The value of x (the first endpoint) 8\n",
            "The value of y (the first endpoint) 2\n",
            "The value of x (the first endpoint) 16\n",
            "The value of y (the first endpoint) 6\n",
            "\n",
            "The midpoint of the line is :\n",
            "The midpoint's x value is:  12.0\n",
            "The midpoint's y value is:  4.0\n"
          ]
        }
      ]
    }
  ]
}