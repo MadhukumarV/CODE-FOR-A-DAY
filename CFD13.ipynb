{
  "nbformat": 4,
  "nbformat_minor": 0,
  "metadata": {
    "colab": {
      "provenance": [],
      "authorship_tag": "ABX9TyPmllRyZ98gx/zKKeW/cb9t",
      "include_colab_link": true
    },
    "kernelspec": {
      "name": "python3",
      "display_name": "Python 3"
    },
    "language_info": {
      "name": "python"
    }
  },
  "cells": [
    {
      "cell_type": "markdown",
      "metadata": {
        "id": "view-in-github",
        "colab_type": "text"
      },
      "source": [
        "<a href=\"https://colab.research.google.com/github/MadhukumarV/CODE-FOR-A-DAY/blob/main/CFD13.ipynb\" target=\"_parent\"><img src=\"https://colab.research.google.com/assets/colab-badge.svg\" alt=\"Open In Colab\"/></a>"
      ]
    },
    {
      "cell_type": "code",
      "execution_count": 2,
      "metadata": {
        "colab": {
          "base_uri": "https://localhost:8080/"
        },
        "id": "FDVso_CishET",
        "outputId": "f2b084e0-9897-46b3-a15f-beb49b09eb4a"
      },
      "outputs": [
        {
          "output_type": "stream",
          "name": "stdout",
          "text": [
            "Ram = 500\n",
            "Sham = 600\n",
            "Bam = 700\n"
          ]
        }
      ],
      "source": [
        "#Updating the details\n",
        "\n",
        "l = [\"Ram\",\"Sham\",\"Bam\"]\n",
        "m = [500,600,700]\n",
        "\n",
        "for i,j in zip(l,m):\n",
        "  print(f\"{i} = {j}\")\n"
      ]
    },
    {
      "cell_type": "code",
      "source": [
        "LC = [f\"{i} = {j}\" for i,j in zip(l,m)]\n",
        "print(LC)"
      ],
      "metadata": {
        "colab": {
          "base_uri": "https://localhost:8080/"
        },
        "id": "0jkGu1qct0sb",
        "outputId": "14075cc4-be57-4ce8-fffa-bf99a22e9960"
      },
      "execution_count": 7,
      "outputs": [
        {
          "output_type": "stream",
          "name": "stdout",
          "text": [
            "['Ram = 500', 'Sham = 600', 'Bam = 700']\n"
          ]
        }
      ]
    },
    {
      "cell_type": "code",
      "source": [],
      "metadata": {
        "id": "aibxkevUu8Xr"
      },
      "execution_count": null,
      "outputs": []
    },
    {
      "cell_type": "code",
      "source": [
        "# you are given a list of intigers.you  are asked to make a list by running through the element of the list by adding all element greater and itself\n",
        "\n",
        "l = [2,4,6,10,1]\n",
        "\n",
        "result = []\n",
        "\n",
        "for i in l:\n",
        "  sum = 0\n",
        "  for j in l:\n",
        "    if i<=j :\n",
        "      sum = sum + j # This line should also be indented\n",
        "    result.append(sum) # This line should also be indented\n",
        "\n",
        "\n",
        "print(result)"
      ],
      "metadata": {
        "colab": {
          "base_uri": "https://localhost:8080/"
        },
        "id": "CEuMnVnxudty",
        "outputId": "60aeeec5-0c4e-4dbf-b12a-ab887711b12d"
      },
      "execution_count": 22,
      "outputs": [
        {
          "output_type": "stream",
          "name": "stdout",
          "text": [
            "[2, 6, 12, 22, 22, 0, 4, 10, 20, 20, 0, 0, 6, 16, 16, 0, 0, 0, 10, 10, 2, 6, 12, 22, 23]\n"
          ]
        }
      ]
    },
    {
      "cell_type": "code",
      "source": [
        "# find the list of common unique item from two list .and show in increasing order\n",
        "\n",
        "l = [2,99,956,48,5,82,62,48]\n",
        "m = [48,388,26,352,77,49,55,99]\n",
        "\n",
        "common = []\n",
        "for  i in l:\n",
        "  if  i in m:\n",
        "    if i not in common :\n",
        "      common.append(i)\n",
        "\n",
        "print(common)\n",
        "\n"
      ],
      "metadata": {
        "colab": {
          "base_uri": "https://localhost:8080/"
        },
        "id": "mR4KReYtyVea",
        "outputId": "cee7b279-f2e1-40a7-f48b-4281dc2851d7"
      },
      "execution_count": 34,
      "outputs": [
        {
          "output_type": "stream",
          "name": "stdout",
          "text": [
            "[99, 48]\n"
          ]
        }
      ]
    },
    {
      "cell_type": "code",
      "source": [],
      "metadata": {
        "id": "wTqdaJz9z6Wr"
      },
      "execution_count": null,
      "outputs": []
    }
  ]
}