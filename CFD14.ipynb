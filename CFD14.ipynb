{
  "nbformat": 4,
  "nbformat_minor": 0,
  "metadata": {
    "colab": {
      "provenance": [],
      "authorship_tag": "ABX9TyMI0xSPyY8i2puHezpgdGka",
      "include_colab_link": true
    },
    "kernelspec": {
      "name": "python3",
      "display_name": "Python 3"
    },
    "language_info": {
      "name": "python"
    }
  },
  "cells": [
    {
      "cell_type": "markdown",
      "metadata": {
        "id": "view-in-github",
        "colab_type": "text"
      },
      "source": [
        "<a href=\"https://colab.research.google.com/github/MadhukumarV/CODE-FOR-A-DAY/blob/main/CFD14.ipynb\" target=\"_parent\"><img src=\"https://colab.research.google.com/assets/colab-badge.svg\" alt=\"Open In Colab\"/></a>"
      ]
    },
    {
      "cell_type": "code",
      "execution_count": 56,
      "metadata": {
        "colab": {
          "base_uri": "https://localhost:8080/"
        },
        "id": "tfVCxELXXxGc",
        "outputId": "3c935d43-87f7-4175-a464-63b9afdaaef7"
      },
      "outputs": [
        {
          "output_type": "stream",
          "name": "stdout",
          "text": [
            "\n",
            "Welcome To Madhu Cafe ,Order  the Item From Below\n",
            "    \n",
            "             Menu :\n",
            "         coffee = 10 ₹\n",
            "         tea    = 10 ₹ \n",
            "         samosa = 15 ₹ \n",
            "         bajji  = 20 ₹ \n",
            "         vada   = 20 ₹\n",
            "\n",
            "Order Your First Item : coffee,tea\n",
            "Item Not in Menu, Please Order Again\n",
            "Order Your Item : coffee\n",
            "your item is coffee, and price is 10 ₹\n"
          ]
        }
      ],
      "source": [
        "Menu = {  \"coffee\" : 10 ,\n",
        "          \"tea\"    : 10 ,\n",
        "          \"samosa\" : 15 ,\n",
        "          \"bajji\" : 20 ,\n",
        "          \"vada \" : 20     }\n",
        "print(\"\"\"\n",
        "Welcome To Madhu Cafe ,Order  the Item From Below\n",
        "\n",
        "             Menu :\n",
        "         coffee = 10 ₹\n",
        "         tea    = 10 ₹\n",
        "         samosa = 15 ₹\n",
        "         bajji  = 20 ₹\n",
        "         vada   = 20 ₹\n",
        "\"\"\")\n",
        "total_price = 0\n",
        "item1 = input(\"Order Your First Item : \").lower()\n",
        "if item1 in Menu:\n",
        "  total_price += Menu[item1]\n",
        "  print(f\"your item is {item1}, and price is {Menu[item1]} ₹\")\n",
        "  order_again = input(\"Do you want to order again? (yes/no) : \").lower()\n",
        "  if order_again == \"yes\":\n",
        "    item2 = input(\"Order Your Second Item : \").lower()\n",
        "    if item2 in Menu:\n",
        "      total_price += Menu[item2]\n",
        "      print(f\"your item is {item1},{item2} and  total price is {Menu[item1]+Menu[item2]} ₹\")\n",
        "      print(\"thank you ,Visit again\")\n",
        "\n",
        "  else:\n",
        "    print(\"Item Not in Menu, Please Order Again\")\n",
        "    fresh = input(\"Order Your Item : \").lower()\n",
        "    if fresh in Menu:\n",
        "      total_price += Menu[fresh]\n",
        "      print(f\"your item is {fresh}, and price is {Menu[fresh]} ₹\")\n",
        "      print(\"thank you ,Visit again\")\n",
        "    else:\n",
        "        print(\"Item Not in Menu, Please Order Again\")\n"
      ]
    }
  ]
}