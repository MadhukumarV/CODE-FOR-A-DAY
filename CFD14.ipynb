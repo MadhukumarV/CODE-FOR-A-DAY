{
  "nbformat": 4,
  "nbformat_minor": 0,
  "metadata": {
    "colab": {
      "provenance": []
    },
    "kernelspec": {
      "name": "python3",
      "display_name": "Python 3"
    },
    "language_info": {
      "name": "python"
    }
  },
  "cells": [
    {
      "cell_type": "code",
      "execution_count": 7,
      "metadata": {
        "colab": {
          "base_uri": "https://localhost:8080/"
        },
        "id": "tfVCxELXXxGc",
        "outputId": "85e80584-479b-40e0-bad5-5e716d286a65"
      },
      "outputs": [
        {
          "output_type": "stream",
          "name": "stdout",
          "text": [
            "\n",
            "Welcome To Madhu Cafe ,Order  the Item From Below\n",
            "\n",
            "             Menu :\n",
            "         coffee = 10 ₹\n",
            "         tea    = 10 ₹\n",
            "         samosa = 15 ₹\n",
            "         bajji  = 20 ₹\n",
            "         vada   = 20 ₹\n",
            "\n",
            "Order Your First Item : tea\n",
            "your item is tea and price is 10 ₹\n",
            "Do you want to order again? (yes/no) : yes\n",
            "Order Your Second Item : coffee\n",
            "your item is tea,coffee and  total price is 20 ₹\n",
            "thank you ,Visit again\n"
          ]
        }
      ],
      "source": [
        "\n",
        "# assigning the item and price\n",
        "Menu = {  \"coffee\" : 10 ,\n",
        "          \"tea\"    : 10 ,\n",
        "          \"samosa\" : 15 ,\n",
        "          \"bajji\" : 20 ,\n",
        "          \"vada\" : 20     }\n",
        "\n",
        "#showning the Menu\n",
        "print(\"\"\"\n",
        "Welcome To Madhu Cafe ,Order  the Item From Below\n",
        "\n",
        "             Menu :\n",
        "         coffee = 10 ₹\n",
        "         tea    = 10 ₹\n",
        "         samosa = 15 ₹\n",
        "         bajji  = 20 ₹\n",
        "         vada   = 20 ₹\n",
        "\"\"\")\n",
        "\n",
        "# assigning the initial price\n",
        "total_price = 0\n",
        "\n",
        "#asking user for order the item\n",
        "item1 = input(\"Order Your First Item : \").lower()\n",
        "if item1 in Menu:\n",
        "  total_price += Menu[item1]\n",
        "  print(f\"your item is {item1} and price is {Menu[item1]} ₹\")\n",
        "  # asking agin if they order again\n",
        "  order_again = input(\"Do you want to order again? (yes/no) : \").lower()\n",
        "  if order_again == \"yes\":\n",
        "    item2 = input(\"Order Your Second Item : \").lower()\n",
        "    if item2 in Menu:\n",
        "      total_price += Menu[item2]\n",
        "      print(f\"your item is {item1},{item2} and  total price is {Menu[item1]+Menu[item2]} ₹\")\n",
        "      print(\"thank you ,Visit again\")\n",
        "  else:\n",
        "    print(\"thank you ,Visit again\")\n",
        "\n",
        "else:\n",
        "    print(\"Item Not in Menu, Please Order Again\")\n",
        "    fresh = input(\"Order Your Item : \").lower()\n",
        "    if fresh in Menu:\n",
        "      total_price += Menu[fresh]\n",
        "      print(f\"your item is {fresh}, and price is {Menu[fresh]} ₹\")\n",
        "      print(\"thank you ,Visit again\")\n",
        "    else:\n",
        "        print(\"Item Not in Menu, Please Order Again\")\n"
      ]
    },
    {
      "cell_type": "code",
      "source": [],
      "metadata": {
        "id": "Qn17903LnlSO"
      },
      "execution_count": null,
      "outputs": []
    }
  ]
}