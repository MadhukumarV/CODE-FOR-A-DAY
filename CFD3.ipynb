{
  "nbformat": 4,
  "nbformat_minor": 0,
  "metadata": {
    "colab": {
      "provenance": [],
      "authorship_tag": "ABX9TyPhOI3Uayg0A/nHqaUU/bW+",
      "include_colab_link": true
    },
    "kernelspec": {
      "name": "python3",
      "display_name": "Python 3"
    },
    "language_info": {
      "name": "python"
    }
  },
  "cells": [
    {
      "cell_type": "markdown",
      "metadata": {
        "id": "view-in-github",
        "colab_type": "text"
      },
      "source": [
        "<a href=\"https://colab.research.google.com/github/MadhukumarV/CODE-FOR-A-DAY/blob/main/CFD3.ipynb\" target=\"_parent\"><img src=\"https://colab.research.google.com/assets/colab-badge.svg\" alt=\"Open In Colab\"/></a>"
      ]
    },
    {
      "cell_type": "code",
      "source": [
        "# prompt: ask user to give input a to z and give output as  random no. btw 1 to 99\n",
        "\n",
        "import random\n",
        "\n",
        "def get_random_number_for_letter():\n",
        "  letter = input(\"Enter a letter (a-z): \").lower()\n",
        "  if 'a' <= letter <= 'z':\n",
        "    # Generate a random number between 1 and 99\n",
        "    random_number = random.randint(1, 99)\n",
        "    print(f\"The random number for {letter} is: {random_number}\")\n",
        "  else:\n",
        "    print(\"Invalid input. Please enter a letter between a and z.\")\n",
        "\n",
        "get_random_number_for_letter()\n"
      ],
      "metadata": {
        "colab": {
          "base_uri": "https://localhost:8080/"
        },
        "id": "Yf3WHY2xBGTP",
        "outputId": "8ecd44eb-f702-4fef-9f4e-7ba7c39da6e6"
      },
      "execution_count": 9,
      "outputs": [
        {
          "output_type": "stream",
          "name": "stdout",
          "text": [
            "Enter a letter (a-z): m\n",
            "The random number for m is: 28\n"
          ]
        }
      ]
    }
  ]
}