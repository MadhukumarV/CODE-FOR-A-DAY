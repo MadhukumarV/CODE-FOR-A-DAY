{
  "nbformat": 4,
  "nbformat_minor": 0,
  "metadata": {
    "colab": {
      "provenance": [],
      "authorship_tag": "ABX9TyNjTGTVR/qNRxudG0gLwQ9f",
      "include_colab_link": true
    },
    "kernelspec": {
      "name": "python3",
      "display_name": "Python 3"
    },
    "language_info": {
      "name": "python"
    }
  },
  "cells": [
    {
      "cell_type": "markdown",
      "metadata": {
        "id": "view-in-github",
        "colab_type": "text"
      },
      "source": [
        "<a href=\"https://colab.research.google.com/github/MadhukumarV/CODE-FOR-A-DAY/blob/main/CFD4.ipynb\" target=\"_parent\"><img src=\"https://colab.research.google.com/assets/colab-badge.svg\" alt=\"Open In Colab\"/></a>"
      ]
    },
    {
      "cell_type": "code",
      "source": [
        "# prompt: CREATE CODE USER INPUT FIRST AND LAST NAME AS INPUT RETURN FULL NAME AS OUTPUT with proper format\n",
        "\n",
        "def get_full_name():\n",
        "  \"\"\"Gets the user's first and last name and returns the full name.\"\"\"\n",
        "\n",
        "  first_name = input(\"Enter your first name: \")\n",
        "  last_name = input(\"Enter your last name: \")\n",
        "\n",
        "  full_name = f\"{first_name.title()} {last_name.title()}\"\n",
        "  return full_name\n",
        "\n",
        "full_name = get_full_name()\n",
        "print(\"Full Name:\", full_name)\n"
      ],
      "metadata": {
        "colab": {
          "base_uri": "https://localhost:8080/"
        },
        "id": "Ti61bxziHVfs",
        "outputId": "55e67ca7-2443-4c99-ce72-e98157969d9b"
      },
      "execution_count": 8,
      "outputs": [
        {
          "output_type": "stream",
          "name": "stdout",
          "text": [
            "Enter your first name: raKshith\n",
            "Enter your last name: sHEtty\n",
            "Full Name: Rakshith Shetty\n"
          ]
        }
      ]
    },
    {
      "cell_type": "code",
      "source": [
        "# prompt: ask user to input name of location and give out put as location as hyper link of google map\n",
        "\n",
        "def get_location_link():\n",
        "  \"\"\"Gets the location name from the user and returns a Google Maps link.\"\"\"\n",
        "\n",
        "  location_name = input(\"Enter the name of the location: \")\n",
        "  google_maps_link = f\"https://www.google.com/maps/search/{location_name.replace(' ', '+')}\"\n",
        "  return google_maps_link\n",
        "\n",
        "\n",
        "location_link = get_location_link()\n",
        "print(\"Google Maps Link:\", location_link)"
      ],
      "metadata": {
        "colab": {
          "base_uri": "https://localhost:8080/"
        },
        "id": "132VNT8xJSxQ",
        "outputId": "958c0bf7-e4fa-4939-8334-d5a7dfc76986"
      },
      "execution_count": 11,
      "outputs": [
        {
          "output_type": "stream",
          "name": "stdout",
          "text": [
            "Enter the name of the location: Bengaluru\n",
            "Google Maps Link: https://www.google.com/maps/search/Bengaluru\n"
          ]
        }
      ]
    },
    {
      "cell_type": "markdown",
      "source": [],
      "metadata": {
        "id": "d18hY1kvHVDF"
      }
    }
  ]
}