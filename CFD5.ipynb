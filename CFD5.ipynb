{
  "nbformat": 4,
  "nbformat_minor": 0,
  "metadata": {
    "colab": {
      "provenance": [],
      "authorship_tag": "ABX9TyO21lWO4NiRKa6IQ45wLIuy",
      "include_colab_link": true
    },
    "kernelspec": {
      "name": "python3",
      "display_name": "Python 3"
    },
    "language_info": {
      "name": "python"
    }
  },
  "cells": [
    {
      "cell_type": "markdown",
      "metadata": {
        "id": "view-in-github",
        "colab_type": "text"
      },
      "source": [
        "<a href=\"https://colab.research.google.com/github/MadhukumarV/CODE-FOR-A-DAY/blob/main/CFD5.ipynb\" target=\"_parent\"><img src=\"https://colab.research.google.com/assets/colab-badge.svg\" alt=\"Open In Colab\"/></a>"
      ]
    },
    {
      "cell_type": "code",
      "source": [
        "# prompt: create random quote for user input from 1 to 99\n",
        "\n",
        "import random\n",
        "\n",
        "def get_random_quote(user_input):\n",
        "  \"\"\"Generates a random quote based on user input.\n",
        "\n",
        "  Args:\n",
        "    user_input: An integer between 1 and 99.\n",
        "\n",
        "  Returns:\n",
        "    A string containing a random quote.\n",
        "  \"\"\"\n",
        "\n",
        "  if 1 <= user_input <= 99:\n",
        "    quote_number = random.randint(1, 10)  # You can adjust the range for more quotes.\n",
        "    if quote_number == 1:\n",
        "      return f\"Your input {user_input} inspired this quote: 'The journey of a thousand miles begins with a single step.'\"\n",
        "    elif quote_number == 2:\n",
        "      return f\"Your input {user_input} resonates with this quote: 'Believe you can and you're halfway there.'\"\n",
        "    elif quote_number == 3:\n",
        "      return f\"Your input {user_input} reminds me of this quote: 'The only way to do great work is to love what you do.'\"\n",
        "    # Add more quotes here...\n",
        "    else:\n",
        "      return f\"Your input {user_input} sparked this quote: 'The future belongs to those who believe in the beauty of their dreams.'\"\n",
        "  else:\n",
        "    return \"Please enter a number between 1 and 99.\"\n",
        "\n",
        "# Get user input\n",
        "try:\n",
        "  user_input = int(input(\"Enter a number between 1 and 99: \"))\n",
        "  print(get_random_quote(user_input))\n",
        "except ValueError:\n",
        "  print(\"Invalid input. Please enter a number.\")"
      ],
      "metadata": {
        "colab": {
          "base_uri": "https://localhost:8080/"
        },
        "id": "F-HcgGsabtZW",
        "outputId": "de0a45a0-454f-46e3-fff6-3fc44484e4df"
      },
      "execution_count": 4,
      "outputs": [
        {
          "output_type": "stream",
          "name": "stdout",
          "text": [
            "Enter a number between 1 and 99: 66\n",
            "Your input 66 sparked this quote: 'The future belongs to those who believe in the beauty of their dreams.'\n"
          ]
        }
      ]
    },
    {
      "cell_type": "code",
      "source": [
        "\n",
        "def add(x, y):\n",
        "  return x + y\n",
        "\n",
        "def subtract(x, y):\n",
        "  return x - y\n",
        "\n",
        "def multiply(x, y):\n",
        "  return x * y\n",
        "\n",
        "def divide(x, y):\n",
        "  if y == 0:\n",
        "    return \"Division by zero error!\"\n",
        "  return x / y\n",
        "\n",
        "while True:\n",
        "  print(\"Select operation:\")\n",
        "  print(\"1. Add\")\n",
        "  print(\"2. Subtract\")\n",
        "  print(\"3. Multiply\")\n",
        "  print(\"4. Divide\")\n",
        "  print(\"5. Exit\")\n",
        "\n",
        "  choice = input(\"Enter choice(1/2/3/4/5): \")\n",
        "\n",
        "  if choice in ('1', '2', '3', '4'):\n",
        "    try:\n",
        "      num1 = float(input(\"Enter first number: \"))\n",
        "      num2 = float(input(\"Enter second number: \"))\n",
        "    except ValueError:\n",
        "      print(\"Invalid input. Please enter numbers only.\")\n",
        "      continue\n",
        "\n",
        "    if choice == '1':\n",
        "      print(num1, \"+\", num2, \"=\", add(num1, num2))\n",
        "\n",
        "    elif choice == '2':\n",
        "      print(num1, \"-\", num2, \"=\", subtract(num1, num2))\n",
        "\n",
        "    elif choice == '3':\n",
        "      print(num1, \"*\", num2, \"=\", multiply(num1, num2))\n",
        "\n",
        "    elif choice == '4':\n",
        "      print(num1, \"/\", num2, \"=\", divide(num1, num2))\n",
        "\n",
        "  elif choice == '5':\n",
        "    break\n",
        "  else:\n",
        "    print(\"Invalid Input\")"
      ],
      "metadata": {
        "colab": {
          "base_uri": "https://localhost:8080/"
        },
        "id": "6Vy2fgZ5crMu",
        "outputId": "8493b6ea-274d-4a53-9ab3-f74746a14fd0"
      },
      "execution_count": 6,
      "outputs": [
        {
          "name": "stdout",
          "output_type": "stream",
          "text": [
            "Select operation:\n",
            "1. Add\n",
            "2. Subtract\n",
            "3. Multiply\n",
            "4. Divide\n",
            "5. Exit\n",
            "Enter choice(1/2/3/4/5): 1\n",
            "Enter first number: 10212\n",
            "Enter second number: 1022\n",
            "10212.0 + 1022.0 = 11234.0\n",
            "Select operation:\n",
            "1. Add\n",
            "2. Subtract\n",
            "3. Multiply\n",
            "4. Divide\n",
            "5. Exit\n",
            "Enter choice(1/2/3/4/5): 5\n"
          ]
        }
      ]
    }
  ]
}