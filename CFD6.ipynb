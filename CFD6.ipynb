{
  "nbformat": 4,
  "nbformat_minor": 0,
  "metadata": {
    "colab": {
      "provenance": [],
      "authorship_tag": "ABX9TyO+jKFOC+idxISpxurayfpI",
      "include_colab_link": true
    },
    "kernelspec": {
      "name": "python3",
      "display_name": "Python 3"
    },
    "language_info": {
      "name": "python"
    }
  },
  "cells": [
    {
      "cell_type": "markdown",
      "metadata": {
        "id": "view-in-github",
        "colab_type": "text"
      },
      "source": [
        "<a href=\"https://colab.research.google.com/github/MadhukumarV/CODE-FOR-A-DAY/blob/main/CFD6.ipynb\" target=\"_parent\"><img src=\"https://colab.research.google.com/assets/colab-badge.svg\" alt=\"Open In Colab\"/></a>"
      ]
    },
    {
      "cell_type": "code",
      "execution_count": 1,
      "metadata": {
        "colab": {
          "base_uri": "https://localhost:8080/"
        },
        "id": "y5vwOIr1qTEi",
        "outputId": "187a007f-09a0-4156-8808-e2317bee00e4"
      },
      "outputs": [
        {
          "output_type": "stream",
          "name": "stdout",
          "text": [
            "Enter a number1: 69\n",
            "Enter a number2: 99\n",
            "Enter a number3:39\n",
            "39 is the smallest number\n"
          ]
        }
      ],
      "source": [
        "n1 = int(input(\"Enter a number1: \"))\n",
        "n2 = int(input(\"Enter a number2: \"))\n",
        "n3 = int(input(\"Enter a number3:\") )\n",
        "\n",
        "\n",
        "if n1 < n2 and n1 < n3:\n",
        "  print(f\"{n1} is the smallest number\")\n",
        "elif n2 < n1 and n2 < n3:\n",
        "    print(f\"{n2} is the smallest number\")\n",
        "else:\n",
        "    print(f\"{n3} is the smallest number\")\n"
      ]
    },
    {
      "cell_type": "code",
      "source": [
        "n1 = int(input(\"Enter a number1: \"))\n",
        "n2 = int(input(\"Enter a number2: \"))\n",
        "n3 = int(input(\"Enter a number3:\") )\n",
        "\n",
        "\n",
        "numbers = [n1, n2, n3]\n",
        "smallest_number = min(numbers)\n",
        "print(f\"{smallest_number} is the smallest number\")"
      ],
      "metadata": {
        "colab": {
          "base_uri": "https://localhost:8080/"
        },
        "id": "8_qmbkYTrUqy",
        "outputId": "d5c50d6f-a880-40eb-9d02-163ee0e5e9ed"
      },
      "execution_count": 4,
      "outputs": [
        {
          "output_type": "stream",
          "name": "stdout",
          "text": [
            "Enter a number1: 99\n",
            "Enter a number2: 69\n",
            "Enter a number3:39\n",
            "39 is the smallest number\n"
          ]
        }
      ]
    }
  ]
}