{
  "nbformat": 4,
  "nbformat_minor": 0,
  "metadata": {
    "colab": {
      "provenance": [],
      "authorship_tag": "ABX9TyOEccm8XRCaNJFqfneBFYEW",
      "include_colab_link": true
    },
    "kernelspec": {
      "name": "python3",
      "display_name": "Python 3"
    },
    "language_info": {
      "name": "python"
    }
  },
  "cells": [
    {
      "cell_type": "markdown",
      "metadata": {
        "id": "view-in-github",
        "colab_type": "text"
      },
      "source": [
        "<a href=\"https://colab.research.google.com/github/MadhukumarV/CODE-FOR-A-DAY/blob/main/CFD7.ipynb\" target=\"_parent\"><img src=\"https://colab.research.google.com/assets/colab-badge.svg\" alt=\"Open In Colab\"/></a>"
      ]
    },
    {
      "cell_type": "code",
      "execution_count": 1,
      "metadata": {
        "colab": {
          "base_uri": "https://localhost:8080/"
        },
        "id": "I1cYWSN9e0f0",
        "outputId": "4c8315b9-bdcb-4221-c15c-d9adc3c5a527"
      },
      "outputs": [
        {
          "output_type": "stream",
          "name": "stdout",
          "text": [
            "Enter the number :99\n",
            "Wrong guess  enter lower\n",
            "Enter the number :88\n",
            "Wrong guess  enter lower\n",
            "Enter the number :66\n",
            "Wrong guess  enter lower\n",
            "Enter the number :8\n",
            "Wrong guess enter higher\n",
            "Enter the number :9\n",
            "--Jackpot Correct guess --\n",
            "--You took 5 attempts--\n"
          ]
        }
      ],
      "source": [
        "# Guessing the Number\n",
        "\n",
        "import random\n",
        "\n",
        "x = random.randint(1,10)\n",
        "\n",
        "num = int(input(\"Enter the number :\"))\n",
        "count = 1\n",
        "while num != x:\n",
        "  if num < x:\n",
        "   print(\"Wrong guess enter higher\")\n",
        "   num = int(input(\"Enter the number :\"))\n",
        "  else:\n",
        "   print(\"Wrong guess  enter lower\")\n",
        "   num = int(input(\"Enter the number :\"))\n",
        "  count += 1\n",
        "else:\n",
        "  print(\"--Jackpot Correct guess --\")\n",
        "  print(\"--You took\",count,\"attempts--\")"
      ]
    }
  ]
}