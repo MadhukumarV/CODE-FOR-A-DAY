{
  "nbformat": 4,
  "nbformat_minor": 0,
  "metadata": {
    "colab": {
      "provenance": [],
      "authorship_tag": "ABX9TyOgn7oFPaBJCX72L+lEh+uK",
      "include_colab_link": true
    },
    "kernelspec": {
      "name": "python3",
      "display_name": "Python 3"
    },
    "language_info": {
      "name": "python"
    }
  },
  "cells": [
    {
      "cell_type": "markdown",
      "metadata": {
        "id": "view-in-github",
        "colab_type": "text"
      },
      "source": [
        "<a href=\"https://colab.research.google.com/github/MadhukumarV/CODE-FOR-A-DAY/blob/main/CFD8.ipynb\" target=\"_parent\"><img src=\"https://colab.research.google.com/assets/colab-badge.svg\" alt=\"Open In Colab\"/></a>"
      ]
    },
    {
      "cell_type": "code",
      "execution_count": 5,
      "metadata": {
        "colab": {
          "base_uri": "https://localhost:8080/"
        },
        "id": "N6UEt_UH3_yN",
        "outputId": "dea78e69-c92b-48a8-e02b-e44916f075c4"
      },
      "outputs": [
        {
          "output_type": "stream",
          "name": "stdout",
          "text": [
            "enter the string : madhu\n",
            "5\n"
          ]
        }
      ],
      "source": [
        "#find the length of string  without using length function\n",
        "\n",
        "user = input(\"enter the string : \")\n",
        "count = 0\n",
        "for i in user:\n",
        "   count = count + 1\n",
        "print(count)"
      ]
    },
    {
      "cell_type": "code",
      "source": [
        "#find the given string is palindrome or not\n",
        "\n",
        "user = input(\"enter the string : \")\n",
        "if user == user[::-1]:\n",
        "    print(f\"the {user} is palindrome\")\n",
        "else:\n",
        "    print(f\"the {user} is not palindrome\")"
      ],
      "metadata": {
        "colab": {
          "base_uri": "https://localhost:8080/"
        },
        "id": "CRxM52qU5rRc",
        "outputId": "b584150f-c6b3-460c-c1ca-aa729869c347"
      },
      "execution_count": 8,
      "outputs": [
        {
          "output_type": "stream",
          "name": "stdout",
          "text": [
            "enter the string : damnitinmad\n",
            "the damnitinmad is palindrome\n"
          ]
        }
      ]
    },
    {
      "cell_type": "code",
      "source": [
        "# find the username from given mail id\n",
        "\n",
        "user = input(\"enter the mail id : \")\n",
        "print(user.split(\"@\")[0])\n",
        "# or\n",
        "x = user.index(\"@\")\n",
        "print(user[:x])\n",
        "\n",
        "\n",
        "\n",
        "\n"
      ],
      "metadata": {
        "colab": {
          "base_uri": "https://localhost:8080/"
        },
        "id": "U2pmqqPh6eFC",
        "outputId": "f998acb6-6085-4735-c5fb-1b7ed83def5c"
      },
      "execution_count": 15,
      "outputs": [
        {
          "output_type": "stream",
          "name": "stdout",
          "text": [
            "enter the mail id : madu833838@mail.com\n",
            "madu833838\n",
            "madu833838\n"
          ]
        }
      ]
    }
  ]
}