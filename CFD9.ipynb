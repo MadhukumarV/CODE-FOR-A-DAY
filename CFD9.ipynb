{
  "nbformat": 4,
  "nbformat_minor": 0,
  "metadata": {
    "colab": {
      "provenance": [],
      "authorship_tag": "ABX9TyP4qzusQwXYSGfcRvYJ8JZa",
      "include_colab_link": true
    },
    "kernelspec": {
      "name": "python3",
      "display_name": "Python 3"
    },
    "language_info": {
      "name": "python"
    }
  },
  "cells": [
    {
      "cell_type": "markdown",
      "metadata": {
        "id": "view-in-github",
        "colab_type": "text"
      },
      "source": [
        "<a href=\"https://colab.research.google.com/github/MadhukumarV/CODE-FOR-A-DAY/blob/main/CFD9.ipynb\" target=\"_parent\"><img src=\"https://colab.research.google.com/assets/colab-badge.svg\" alt=\"Open In Colab\"/></a>"
      ]
    },
    {
      "cell_type": "markdown",
      "source": [
        "#### Write a Python program to get the current username."
      ],
      "metadata": {
        "id": "RA2byDmuP-tX"
      }
    },
    {
      "cell_type": "code",
      "execution_count": 2,
      "metadata": {
        "colab": {
          "base_uri": "https://localhost:8080/"
        },
        "id": "krGRFL3yPVcs",
        "outputId": "44875db4-60e5-4b7c-c708-44cb1f043b04"
      },
      "outputs": [
        {
          "output_type": "stream",
          "name": "stdout",
          "text": [
            "root\n"
          ]
        }
      ],
      "source": [
        "import getpass\n",
        "\n",
        "print(getpass.getuser() )"
      ]
    },
    {
      "cell_type": "markdown",
      "source": [
        "#### Write a Python program to calculate sum of digits of a number."
      ],
      "metadata": {
        "id": "Tvkpt4gxQxx5"
      }
    },
    {
      "cell_type": "code",
      "source": [
        "#\n",
        "num = input(\"Enter a number: \")\n",
        "sum = 0\n",
        "for i in num:\n",
        "    sum += int(i)\n",
        "print(sum)"
      ],
      "metadata": {
        "colab": {
          "base_uri": "https://localhost:8080/"
        },
        "id": "BJauFoL3Q2Ry",
        "outputId": "1c29020e-f972-4e73-c683-64fe7b01e4ec"
      },
      "execution_count": 4,
      "outputs": [
        {
          "output_type": "stream",
          "name": "stdout",
          "text": [
            "Enter a number: 5231\n",
            "11\n"
          ]
        }
      ]
    },
    {
      "cell_type": "markdown",
      "source": [
        "#### Write a Python program to swap two variables."
      ],
      "metadata": {
        "id": "1kA1l2IeRkNC"
      }
    },
    {
      "cell_type": "code",
      "source": [
        "a = input(\"Enter first variable number: \")\n",
        "b = input(\"Enter second variable number:\")\n",
        "a, b = b, a\n",
        "print(f\"after swaping first variable is {a}\", f\"after swaping second variable is {b}\",sep=\"\\n\")"
      ],
      "metadata": {
        "colab": {
          "base_uri": "https://localhost:8080/"
        },
        "id": "JxtYW7AsRP_o",
        "outputId": "9c6db198-97e2-4f37-fee5-19ce1738a8ad"
      },
      "execution_count": 8,
      "outputs": [
        {
          "output_type": "stream",
          "name": "stdout",
          "text": [
            "Enter first variable number: 36\n",
            "Enter second variable number:63\n",
            "after swaping first variable is 63\n",
            "after swaping second variable is 36\n"
          ]
        }
      ]
    }
  ]
}